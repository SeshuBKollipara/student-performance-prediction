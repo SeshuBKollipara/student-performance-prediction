{
 "cells": [
  {
   "cell_type": "markdown",
   "id": "b2279492",
   "metadata": {},
   "source": [
    "# 🎓 Student Performance Prediction (UCI Dataset)\n",
    "\n",
    "Predict whether a student will pass based on real academic and personal features.\n",
    "This notebook trains 3 models and compares their performance:\n",
    "- Logistic Regression\n",
    "- Decision Tree\n",
    "- Random Forest"
   ]
  },
  {
   "cell_type": "code",
   "execution_count": null,
   "id": "946340f4",
   "metadata": {},
   "outputs": [],
   "source": [
    "import pandas as pd\n",
    "import seaborn as sns\n",
    "import matplotlib.pyplot as plt\n",
    "from sklearn.model_selection import train_test_split\n",
    "from sklearn.preprocessing import LabelEncoder\n",
    "from sklearn.linear_model import LogisticRegression\n",
    "from sklearn.tree import DecisionTreeClassifier\n",
    "from sklearn.ensemble import RandomForestClassifier\n",
    "from sklearn.metrics import accuracy_score, classification_report, confusion_matrix"
   ]
  },
  {
   "cell_type": "markdown",
   "id": "5cc83caf",
   "metadata": {},
   "source": [
    "## 📥 Load Dataset"
   ]
  },
  {
   "cell_type": "code",
   "execution_count": null,
   "id": "09488428",
   "metadata": {},
   "outputs": [],
   "source": [
    "df = pd.read_csv('../data/student-mat.csv', sep=';')\n",
    "df.head()"
   ]
  },
  {
   "cell_type": "markdown",
   "id": "7806b133",
   "metadata": {},
   "source": [
    "## 🔍 Preprocess Data"
   ]
  },
  {
   "cell_type": "code",
   "execution_count": null,
   "id": "b8b665d0",
   "metadata": {},
   "outputs": [],
   "source": [
    "# Create binary target: pass if G3 >= 10\n",
    "df['pass'] = df['G3'] >= 10\n",
    "df.drop(['G1', 'G2', 'G3'], axis=1, inplace=True)\n",
    "\n",
    "# Encode categorical variables\n",
    "le = LabelEncoder()\n",
    "for col in df.select_dtypes(include='object').columns:\n",
    "    df[col] = le.fit_transform(df[col])\n",
    "df.head()"
   ]
  },
  {
   "cell_type": "markdown",
   "id": "28696505",
   "metadata": {},
   "source": [
    "## 📊 Train-Test Split"
   ]
  },
  {
   "cell_type": "code",
   "execution_count": null,
   "id": "c2fc44e5",
   "metadata": {},
   "outputs": [],
   "source": [
    "X = df.drop('pass', axis=1)\n",
    "y = df['pass']\n",
    "X_train, X_test, y_train, y_test = train_test_split(X, y, test_size=0.2, random_state=42)"
   ]
  },
  {
   "cell_type": "markdown",
   "id": "ee53c3de",
   "metadata": {},
   "source": [
    "## ⚙️ Train and Evaluate Models"
   ]
  },
  {
   "cell_type": "code",
   "execution_count": null,
   "id": "736999c2",
   "metadata": {},
   "outputs": [],
   "source": [
    "models = {\n",
    "    'Logistic Regression': LogisticRegression(max_iter=1000),\n",
    "    'Decision Tree': DecisionTreeClassifier(),\n",
    "    'Random Forest': RandomForestClassifier()\n",
    "}\n",
    "\n",
    "results = {}\n",
    "\n",
    "for name, model in models.items():\n",
    "    model.fit(X_train, y_train)\n",
    "    y_pred = model.predict(X_test)\n",
    "    acc = accuracy_score(y_test, y_pred)\n",
    "    cm = confusion_matrix(y_test, y_pred)\n",
    "    cr = classification_report(y_test, y_pred, output_dict=True)\n",
    "    results[name] = {\n",
    "        'accuracy': acc,\n",
    "        'confusion_matrix': cm,\n",
    "        'report': cr\n",
    "    }"
   ]
  },
  {
   "cell_type": "markdown",
   "id": "a26f9e49",
   "metadata": {},
   "source": [
    "## 📋 Model Accuracy Comparison"
   ]
  },
  {
   "cell_type": "code",
   "execution_count": null,
   "id": "12153e08",
   "metadata": {},
   "outputs": [],
   "source": [
    "comparison_df = pd.DataFrame({\n",
    "    name: [round(info['accuracy'] * 100, 2)] for name, info in results.items()\n",
    "}).T.rename(columns={0: 'Accuracy (%)'})\n",
    "comparison_df"
   ]
  },
  {
   "cell_type": "markdown",
   "id": "3ee55e13",
   "metadata": {},
   "source": [
    "## 📉 Confusion Matrices"
   ]
  },
  {
   "cell_type": "code",
   "execution_count": null,
   "id": "7a425d54",
   "metadata": {},
   "outputs": [],
   "source": [
    "for name, res in results.items():\n",
    "    sns.heatmap(res['confusion_matrix'], annot=True, fmt='d', cmap='Blues')\n",
    "    plt.title(f'Confusion Matrix - {name}')\n",
    "    plt.xlabel('Predicted')\n",
    "    plt.ylabel('Actual')\n",
    "    plt.show()"
   ]
  },
  {
   "cell_type": "markdown",
   "id": "03006046",
   "metadata": {},
   "source": [
    "## ✅ Summary\n",
    "- All models were evaluated on a real-world student dataset.\n",
    "- Accuracy and classification reports provided.\n",
    "- Logistic Regression is generally effective, but all three models performed comparably.\n",
    "- Clean feature encoding and EDA included.\n"
   ]
  }
 ],
 "metadata": {},
 "nbformat": 4,
 "nbformat_minor": 5
}
